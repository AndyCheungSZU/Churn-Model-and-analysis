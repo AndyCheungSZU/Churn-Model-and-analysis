{
 "cells": [
  {
   "cell_type": "code",
   "execution_count": 1,
   "metadata": {},
   "outputs": [],
   "source": [
    "import numpy as np\n",
    "import pandas as pd\n",
    "import seaborn as sns\n",
    "import matplotlib.pyplot as plt\n",
    "import matplotlib as mpl\n",
    "import datetime\n",
    "\n",
    "sns.set()"
   ]
  },
  {
   "cell_type": "code",
   "execution_count": 2,
   "metadata": {},
   "outputs": [],
   "source": [
    "train = pd.read_csv('/Users/andy/Desktop/Case/data/ml_case_training_data.csv')\n",
    "label = pd.read_csv('/Users/andy/Desktop/Case/data/ml_case_training_output.csv')\n",
    "hist = pd.read_csv('/Users/andy/Desktop/Case/data/ml_case_training_hist_data.csv')"
   ]
  },
  {
   "cell_type": "code",
   "execution_count": 3,
   "metadata": {},
   "outputs": [
    {
     "name": "stdout",
     "output_type": "stream",
     "text": [
      "<class 'pandas.core.frame.DataFrame'>\n",
      "Int64Index: 16096 entries, 0 to 16095\n",
      "Data columns (total 33 columns):\n",
      " #   Column                    Non-Null Count  Dtype  \n",
      "---  ------                    --------------  -----  \n",
      " 0   id                        16096 non-null  object \n",
      " 1   activity_new              6551 non-null   object \n",
      " 2   campaign_disc_ele         0 non-null      float64\n",
      " 3   channel_sales             11878 non-null  object \n",
      " 4   cons_12m                  16096 non-null  int64  \n",
      " 5   cons_gas_12m              16096 non-null  int64  \n",
      " 6   cons_last_month           16096 non-null  int64  \n",
      " 7   date_activ                16096 non-null  object \n",
      " 8   date_end                  16094 non-null  object \n",
      " 9   date_first_activ          3508 non-null   object \n",
      " 10  date_modif_prod           15939 non-null  object \n",
      " 11  date_renewal              16056 non-null  object \n",
      " 12  forecast_base_bill_ele    3508 non-null   float64\n",
      " 13  forecast_base_bill_year   3508 non-null   float64\n",
      " 14  forecast_bill_12m         3508 non-null   float64\n",
      " 15  forecast_cons             3508 non-null   float64\n",
      " 16  forecast_cons_12m         16096 non-null  float64\n",
      " 17  forecast_cons_year        16096 non-null  int64  \n",
      " 18  forecast_discount_energy  15970 non-null  float64\n",
      " 19  forecast_meter_rent_12m   16096 non-null  float64\n",
      " 20  forecast_price_energy_p1  15970 non-null  float64\n",
      " 21  forecast_price_energy_p2  15970 non-null  float64\n",
      " 22  forecast_price_pow_p1     15970 non-null  float64\n",
      " 23  has_gas                   16096 non-null  object \n",
      " 24  imp_cons                  16096 non-null  float64\n",
      " 25  margin_gross_pow_ele      16083 non-null  float64\n",
      " 26  margin_net_pow_ele        16083 non-null  float64\n",
      " 27  nb_prod_act               16096 non-null  int64  \n",
      " 28  net_margin                16081 non-null  float64\n",
      " 29  num_years_antig           16096 non-null  int64  \n",
      " 30  origin_up                 16009 non-null  object \n",
      " 31  pow_max                   16093 non-null  float64\n",
      " 32  churn                     16096 non-null  int64  \n",
      "dtypes: float64(16), int64(7), object(10)\n",
      "memory usage: 4.2+ MB\n"
     ]
    }
   ],
   "source": [
    "train = train.merge(label, how='left', on='id')\n",
    "train.info()"
   ]
  },
  {
   "cell_type": "code",
   "execution_count": 4,
   "metadata": {},
   "outputs": [
    {
     "name": "stderr",
     "output_type": "stream",
     "text": [
      "/System/Volumes/Data/Applications/anaconda3/lib/python3.7/site-packages/pandas/core/frame.py:4312: SettingWithCopyWarning: \n",
      "A value is trying to be set on a copy of a slice from a DataFrame\n",
      "\n",
      "See the caveats in the documentation: https://pandas.pydata.org/pandas-docs/stable/user_guide/indexing.html#returning-a-view-versus-a-copy\n",
      "  errors=errors,\n",
      "/System/Volumes/Data/Applications/anaconda3/lib/python3.7/site-packages/ipykernel_launcher.py:14: SettingWithCopyWarning: \n",
      "A value is trying to be set on a copy of a slice from a DataFrame.\n",
      "Try using .loc[row_indexer,col_indexer] = value instead\n",
      "\n",
      "See the caveats in the documentation: https://pandas.pydata.org/pandas-docs/stable/user_guide/indexing.html#returning-a-view-versus-a-copy\n",
      "  \n",
      "/System/Volumes/Data/Applications/anaconda3/lib/python3.7/site-packages/ipykernel_launcher.py:29: SettingWithCopyWarning: \n",
      "A value is trying to be set on a copy of a slice from a DataFrame.\n",
      "Try using .loc[row_indexer,col_indexer] = value instead\n",
      "\n",
      "See the caveats in the documentation: https://pandas.pydata.org/pandas-docs/stable/user_guide/indexing.html#returning-a-view-versus-a-copy\n"
     ]
    }
   ],
   "source": [
    "train.drop(['campaign_disc_ele'], inplace=True, axis=1)\n",
    "\n",
    "\n",
    "numerics = ['int16', 'int32', 'int64', 'float16', 'float32', 'float64']\n",
    "\n",
    "new_train = train.select_dtypes(include=numerics)\n",
    "new_train.drop(['churn'], inplace=True, axis=1)\n",
    "new_train.head()\n",
    "\n",
    "\n",
    "consumpations = ['cons_12m', 'cons_gas_12m', 'cons_last_month', 'forecast_base_bill_ele', 'forecast_base_bill_year', 'forecast_bill_12m', 'forecast_cons_12m', 'forecast_cons_year', 'forecast_meter_rent_12m', 'forecast_price_pow_p1', 'imp_cons']\n",
    "\n",
    "for col in consumpations:\n",
    "    new_train[col] = new_train[col].clip(lower=0)\n",
    "    \n",
    "    \n",
    "cols = new_train.columns.to_list()\n",
    "cols.remove('cons_gas_12m')\n",
    "cols.remove('forecast_discount_energy')\n",
    "cols.remove('nb_prod_act')\n",
    "\n",
    "\n",
    "for col in cols:\n",
    "    Q1 = new_train[col].quantile(0.25)\n",
    "    Q3 = new_train[col].quantile(0.75)\n",
    "    IQR = Q3 - Q1\n",
    "    \n",
    "    new_train[col] = new_train[col].clip(lower=Q1-1.5*IQR,\n",
    "                                         upper=Q3+1.5*IQR)\n",
    "    \n",
    "new_train.describe([0.01, 0.1, 0.25, 0.5, 0.75, 0.9, 0.95, 0.99]).T\n",
    "\n",
    "\n",
    "for col in new_train.columns:\n",
    "    train[col] = new_train[col]"
   ]
  },
  {
   "cell_type": "code",
   "execution_count": 5,
   "metadata": {},
   "outputs": [
    {
     "name": "stdout",
     "output_type": "stream",
     "text": [
      "(16091, 26) \n",
      "\n",
      "(16091, 34) \n",
      "\n"
     ]
    }
   ],
   "source": [
    "train = train.loc[:, train.isnull().mean() < .5]\n",
    "\n",
    "train = train.loc[train.date_end.isnull() == 0]\n",
    "train = train.loc[train.pow_max.isnull() == 0]\n",
    "\n",
    "from sklearn.impute import KNNImputer\n",
    "\n",
    "train_ = train.copy()\n",
    "train_.drop(columns=['id', 'date_activ', 'date_end', 'date_modif_prod', 'date_renewal'], inplace=True) # drop 'id' and cols linked to date since they're irrelevant\n",
    "\n",
    "# one-hot encoding for categorical variables\n",
    "train_ = pd.get_dummies(train_, columns=['channel_sales', 'origin_up'], dummy_na=True) \n",
    "train_ = pd.get_dummies(train_, columns=['has_gas'])\n",
    "print(train.shape, '\\n')\n",
    "print(train_.shape, '\\n')\n",
    "\n",
    "# Create an instance of KNNImputer\n",
    "knn_imputer = KNNImputer(n_neighbors=15)\n",
    "imputed_train = knn_imputer.fit_transform(train_)\n",
    "imputed_train = pd.DataFrame(imputed_train, columns=train_.columns)\n",
    "\n",
    "# still have 5 NaN left, fill with mode in the next step\n",
    "train[['forecast_discount_energy', 'forecast_price_energy_p1', 'forecast_price_energy_p2', 'forecast_price_pow_p1']] = imputed_train[['forecast_discount_energy', 'forecast_price_energy_p1', 'forecast_price_energy_p2', 'forecast_price_pow_p1']]\n",
    "\n",
    "\n",
    "lst = ['forecast_discount_energy', 'forecast_price_energy_p1', 'forecast_price_energy_p2', 'forecast_price_pow_p1', 'margin_gross_pow_ele', 'margin_net_pow_ele', 'net_margin']\n",
    "\n",
    "for col in lst:\n",
    "    train[col] = train[col].fillna(train[col].median())"
   ]
  },
  {
   "cell_type": "code",
   "execution_count": 6,
   "metadata": {},
   "outputs": [],
   "source": [
    "hist.dropna(how='any', inplace=True)\n",
    "\n",
    "grouped_hist = hist.groupby(by='id').mean()\n",
    "\n",
    "train_total = train.merge(grouped_hist, on='id', how='left')\n",
    "\n",
    "train_total = train_total[train_total.price_p1_var.isnull() == 0]"
   ]
  },
  {
   "cell_type": "code",
   "execution_count": 7,
   "metadata": {},
   "outputs": [
    {
     "data": {
      "text/html": [
       "<div>\n",
       "<style scoped>\n",
       "    .dataframe tbody tr th:only-of-type {\n",
       "        vertical-align: middle;\n",
       "    }\n",
       "\n",
       "    .dataframe tbody tr th {\n",
       "        vertical-align: top;\n",
       "    }\n",
       "\n",
       "    .dataframe thead th {\n",
       "        text-align: right;\n",
       "    }\n",
       "</style>\n",
       "<table border=\"1\" class=\"dataframe\">\n",
       "  <thead>\n",
       "    <tr style=\"text-align: right;\">\n",
       "      <th></th>\n",
       "      <th>id</th>\n",
       "      <th>channel_sales</th>\n",
       "      <th>cons_12m</th>\n",
       "      <th>cons_gas_12m</th>\n",
       "      <th>cons_last_month</th>\n",
       "      <th>forecast_cons_12m</th>\n",
       "      <th>forecast_cons_year</th>\n",
       "      <th>forecast_discount_energy</th>\n",
       "      <th>forecast_meter_rent_12m</th>\n",
       "      <th>forecast_price_energy_p1</th>\n",
       "      <th>...</th>\n",
       "      <th>pow_max</th>\n",
       "      <th>churn</th>\n",
       "      <th>price_p1_var</th>\n",
       "      <th>price_p2_var</th>\n",
       "      <th>price_p3_var</th>\n",
       "      <th>price_p1_fix</th>\n",
       "      <th>price_p2_fix</th>\n",
       "      <th>price_p3_fix</th>\n",
       "      <th>length_of_contract</th>\n",
       "      <th>length_of_satisfaction</th>\n",
       "    </tr>\n",
       "  </thead>\n",
       "  <tbody>\n",
       "    <tr>\n",
       "      <th>0</th>\n",
       "      <td>48ada52261e7cf58715202705a0451c9</td>\n",
       "      <td>lmkebamcaaclubfxadlmueccxoimlema</td>\n",
       "      <td>116694.375</td>\n",
       "      <td>0</td>\n",
       "      <td>10025.0</td>\n",
       "      <td>5960.34875</td>\n",
       "      <td>4985.625</td>\n",
       "      <td>0.0</td>\n",
       "      <td>304.33</td>\n",
       "      <td>0.095919</td>\n",
       "      <td>...</td>\n",
       "      <td>30.750</td>\n",
       "      <td>0</td>\n",
       "      <td>0.103449</td>\n",
       "      <td>0.092115</td>\n",
       "      <td>0.067241</td>\n",
       "      <td>58.956502</td>\n",
       "      <td>36.356887</td>\n",
       "      <td>8.337051</td>\n",
       "      <td>1460</td>\n",
       "      <td>1460.0</td>\n",
       "    </tr>\n",
       "    <tr>\n",
       "      <th>1</th>\n",
       "      <td>24011ae4ebbe3035111d65fa7c15bc57</td>\n",
       "      <td>foosdfpfkusacimwkcsosbicdxkicaua</td>\n",
       "      <td>0.000</td>\n",
       "      <td>54946</td>\n",
       "      <td>0.0</td>\n",
       "      <td>0.00000</td>\n",
       "      <td>0.000</td>\n",
       "      <td>0.0</td>\n",
       "      <td>1.78</td>\n",
       "      <td>0.114481</td>\n",
       "      <td>...</td>\n",
       "      <td>30.750</td>\n",
       "      <td>1</td>\n",
       "      <td>0.122856</td>\n",
       "      <td>0.102137</td>\n",
       "      <td>0.072579</td>\n",
       "      <td>40.640023</td>\n",
       "      <td>24.384011</td>\n",
       "      <td>16.256008</td>\n",
       "      <td>1096</td>\n",
       "      <td>1096.0</td>\n",
       "    </tr>\n",
       "    <tr>\n",
       "      <th>2</th>\n",
       "      <td>d29c2c54acc38ff3c0614d0a653813dd</td>\n",
       "      <td>NaN</td>\n",
       "      <td>4660.000</td>\n",
       "      <td>0</td>\n",
       "      <td>0.0</td>\n",
       "      <td>189.95000</td>\n",
       "      <td>0.000</td>\n",
       "      <td>0.0</td>\n",
       "      <td>16.27</td>\n",
       "      <td>0.145711</td>\n",
       "      <td>...</td>\n",
       "      <td>13.800</td>\n",
       "      <td>0</td>\n",
       "      <td>0.149934</td>\n",
       "      <td>0.000000</td>\n",
       "      <td>0.000000</td>\n",
       "      <td>44.315416</td>\n",
       "      <td>0.000000</td>\n",
       "      <td>0.000000</td>\n",
       "      <td>2566</td>\n",
       "      <td>2566.0</td>\n",
       "    </tr>\n",
       "    <tr>\n",
       "      <th>3</th>\n",
       "      <td>764c75f661154dac3a6c254cd082ea7d</td>\n",
       "      <td>foosdfpfkusacimwkcsosbicdxkicaua</td>\n",
       "      <td>544.000</td>\n",
       "      <td>0</td>\n",
       "      <td>0.0</td>\n",
       "      <td>47.96000</td>\n",
       "      <td>0.000</td>\n",
       "      <td>0.0</td>\n",
       "      <td>38.72</td>\n",
       "      <td>0.165794</td>\n",
       "      <td>...</td>\n",
       "      <td>13.856</td>\n",
       "      <td>0</td>\n",
       "      <td>0.170512</td>\n",
       "      <td>0.088421</td>\n",
       "      <td>0.000000</td>\n",
       "      <td>44.385450</td>\n",
       "      <td>0.000000</td>\n",
       "      <td>0.000000</td>\n",
       "      <td>2192</td>\n",
       "      <td>2192.0</td>\n",
       "    </tr>\n",
       "    <tr>\n",
       "      <th>4</th>\n",
       "      <td>bba03439a292a1e166f80264c16191cb</td>\n",
       "      <td>lmkebamcaaclubfxadlmueccxoimlema</td>\n",
       "      <td>1584.000</td>\n",
       "      <td>0</td>\n",
       "      <td>0.0</td>\n",
       "      <td>240.04000</td>\n",
       "      <td>0.000</td>\n",
       "      <td>0.0</td>\n",
       "      <td>19.83</td>\n",
       "      <td>0.146694</td>\n",
       "      <td>...</td>\n",
       "      <td>13.200</td>\n",
       "      <td>0</td>\n",
       "      <td>0.151210</td>\n",
       "      <td>0.000000</td>\n",
       "      <td>0.000000</td>\n",
       "      <td>44.400265</td>\n",
       "      <td>0.000000</td>\n",
       "      <td>0.000000</td>\n",
       "      <td>2192</td>\n",
       "      <td>2192.0</td>\n",
       "    </tr>\n",
       "  </tbody>\n",
       "</table>\n",
       "<p>5 rows × 29 columns</p>\n",
       "</div>"
      ],
      "text/plain": [
       "                                 id                     channel_sales  \\\n",
       "0  48ada52261e7cf58715202705a0451c9  lmkebamcaaclubfxadlmueccxoimlema   \n",
       "1  24011ae4ebbe3035111d65fa7c15bc57  foosdfpfkusacimwkcsosbicdxkicaua   \n",
       "2  d29c2c54acc38ff3c0614d0a653813dd                               NaN   \n",
       "3  764c75f661154dac3a6c254cd082ea7d  foosdfpfkusacimwkcsosbicdxkicaua   \n",
       "4  bba03439a292a1e166f80264c16191cb  lmkebamcaaclubfxadlmueccxoimlema   \n",
       "\n",
       "     cons_12m  cons_gas_12m  cons_last_month  forecast_cons_12m  \\\n",
       "0  116694.375             0          10025.0         5960.34875   \n",
       "1       0.000         54946              0.0            0.00000   \n",
       "2    4660.000             0              0.0          189.95000   \n",
       "3     544.000             0              0.0           47.96000   \n",
       "4    1584.000             0              0.0          240.04000   \n",
       "\n",
       "   forecast_cons_year  forecast_discount_energy  forecast_meter_rent_12m  \\\n",
       "0            4985.625                       0.0                   304.33   \n",
       "1               0.000                       0.0                     1.78   \n",
       "2               0.000                       0.0                    16.27   \n",
       "3               0.000                       0.0                    38.72   \n",
       "4               0.000                       0.0                    19.83   \n",
       "\n",
       "   forecast_price_energy_p1  ...  pow_max  churn price_p1_var  price_p2_var  \\\n",
       "0                  0.095919  ...   30.750      0     0.103449      0.092115   \n",
       "1                  0.114481  ...   30.750      1     0.122856      0.102137   \n",
       "2                  0.145711  ...   13.800      0     0.149934      0.000000   \n",
       "3                  0.165794  ...   13.856      0     0.170512      0.088421   \n",
       "4                  0.146694  ...   13.200      0     0.151210      0.000000   \n",
       "\n",
       "   price_p3_var  price_p1_fix  price_p2_fix  price_p3_fix length_of_contract  \\\n",
       "0      0.067241     58.956502     36.356887      8.337051               1460   \n",
       "1      0.072579     40.640023     24.384011     16.256008               1096   \n",
       "2      0.000000     44.315416      0.000000      0.000000               2566   \n",
       "3      0.000000     44.385450      0.000000      0.000000               2192   \n",
       "4      0.000000     44.400265      0.000000      0.000000               2192   \n",
       "\n",
       "   length_of_satisfaction  \n",
       "0                  1460.0  \n",
       "1                  1096.0  \n",
       "2                  2566.0  \n",
       "3                  2192.0  \n",
       "4                  2192.0  \n",
       "\n",
       "[5 rows x 29 columns]"
      ]
     },
     "execution_count": 7,
     "metadata": {},
     "output_type": "execute_result"
    }
   ],
   "source": [
    "# Change data types\n",
    "import datetime\n",
    "\n",
    "train_total['date_activ'] = train_total['date_activ'].astype({'date_activ': 'datetime64[ns]'})\n",
    "train_total['date_end'] = train_total['date_end'].astype({'date_end': 'datetime64[ns]'})\n",
    "train_total['date_modif_prod'] = train_total['date_modif_prod'].astype({'date_modif_prod': 'datetime64[ns]'})\n",
    "train_total['date_renewal'] = train_total['date_renewal'].astype({'date_renewal': 'datetime64[ns]'})\n",
    "\n",
    "train_total['length_of_contract'] = ((train_total['date_end'] - train_total['date_activ']).dt.days)\n",
    "train_total['length_of_contract'].fillna(train_total['length_of_contract'].median(), inplace=True)\n",
    "\n",
    "\n",
    "train_total['length_of_satisfaction'] = ((train_total['date_end'] - train_total['date_modif_prod']).dt.days)\n",
    "\n",
    "train_total['length_of_satisfaction'].fillna(train_total['length_of_satisfaction'].median(), inplace=True)\n",
    "\n",
    "\n",
    "train_total.drop(['date_activ', 'date_end', 'date_modif_prod', 'date_renewal', 'num_years_antig'], axis=1, inplace=True)\n",
    "train_total.head()"
   ]
  },
  {
   "cell_type": "code",
   "execution_count": 8,
   "metadata": {},
   "outputs": [
    {
     "name": "stdout",
     "output_type": "stream",
     "text": [
      "<class 'pandas.core.frame.DataFrame'>\n",
      "Int64Index: 16089 entries, 0 to 16090\n",
      "Data columns (total 29 columns):\n",
      " #   Column                    Non-Null Count  Dtype  \n",
      "---  ------                    --------------  -----  \n",
      " 0   id                        16089 non-null  object \n",
      " 1   channel_sales             16089 non-null  object \n",
      " 2   cons_12m                  16089 non-null  float64\n",
      " 3   cons_gas_12m              16089 non-null  int64  \n",
      " 4   cons_last_month           16089 non-null  float64\n",
      " 5   forecast_cons_12m         16089 non-null  float64\n",
      " 6   forecast_cons_year        16089 non-null  float64\n",
      " 7   forecast_discount_energy  16089 non-null  float64\n",
      " 8   forecast_meter_rent_12m   16089 non-null  float64\n",
      " 9   forecast_price_energy_p1  16089 non-null  float64\n",
      " 10  forecast_price_energy_p2  16089 non-null  float64\n",
      " 11  forecast_price_pow_p1     16089 non-null  float64\n",
      " 12  has_gas                   16089 non-null  object \n",
      " 13  imp_cons                  16089 non-null  float64\n",
      " 14  margin_gross_pow_ele      16089 non-null  float64\n",
      " 15  margin_net_pow_ele        16089 non-null  float64\n",
      " 16  nb_prod_act               16089 non-null  int64  \n",
      " 17  net_margin                16089 non-null  float64\n",
      " 18  origin_up                 16089 non-null  object \n",
      " 19  pow_max                   16089 non-null  float64\n",
      " 20  churn                     16089 non-null  int64  \n",
      " 21  price_p1_var              16089 non-null  float64\n",
      " 22  price_p2_var              16089 non-null  float64\n",
      " 23  price_p3_var              16089 non-null  float64\n",
      " 24  price_p1_fix              16089 non-null  float64\n",
      " 25  price_p2_fix              16089 non-null  float64\n",
      " 26  price_p3_fix              16089 non-null  float64\n",
      " 27  length_of_contract        16089 non-null  int64  \n",
      " 28  length_of_satisfaction    16089 non-null  float64\n",
      "dtypes: float64(21), int64(4), object(4)\n",
      "memory usage: 3.7+ MB\n"
     ]
    }
   ],
   "source": [
    "train_total['channel_sales'].fillna('channel_sales_Null', inplace=True)\n",
    "train_total['origin_up'].fillna('origin_up_Null', inplace=True)\n",
    "\n",
    "train_total.info()"
   ]
  },
  {
   "cell_type": "code",
   "execution_count": 9,
   "metadata": {},
   "outputs": [],
   "source": [
    "loc = pd.crosstab(round(train_total['length_of_contract']/365), train_total['churn'])"
   ]
  },
  {
   "cell_type": "code",
   "execution_count": 10,
   "metadata": {},
   "outputs": [
    {
     "data": {
      "image/png": "[encoded data removed]",
      "text/plain": [
       "<Figure size 432x288 with 1 Axes>"
      ]
     },
     "metadata": {
      "needs_background": "light"
     },
     "output_type": "display_data"
    }
   ],
   "source": [
    "loc.plot(kind='bar')\n",
    "plt.show()"
   ]
  },
  {
   "cell_type": "code",
   "execution_count": 11,
   "metadata": {},
   "outputs": [
    {
     "data": {
      "image/png": "[encoded data removed]",
      "text/plain": [
       "<Figure size 432x288 with 1 Axes>"
      ]
     },
     "metadata": {
      "needs_background": "light"
     },
     "output_type": "display_data"
    }
   ],
   "source": [
    "los = pd.crosstab(round(train_total['length_of_satisfaction']/365), train_total['churn'])\n",
    "los.plot(kind='bar')\n",
    "plt.xlim(0, 13)\n",
    "plt.show()"
   ]
  },
  {
   "cell_type": "code",
   "execution_count": 12,
   "metadata": {},
   "outputs": [
    {
     "data": {
      "image/png": "[encoded data removed]",
      "text/plain": [
       "<Figure size 432x288 with 1 Axes>"
      ]
     },
     "metadata": {
      "needs_background": "light"
     },
     "output_type": "display_data"
    }
   ],
   "source": [
    "noc = pd.crosstab(train_total['nb_prod_act'], train_total['churn'])\n",
    "noc.plot(kind='bar')\n",
    "plt.xlim(1, 10)\n",
    "plt.show()"
   ]
  },
  {
   "cell_type": "code",
   "execution_count": 13,
   "metadata": {},
   "outputs": [
    {
     "data": {
      "image/png": "[encoded data removed]",
      "text/plain": [
       "<Figure size 432x288 with 1 Axes>"
      ]
     },
     "metadata": {
      "needs_background": "light"
     },
     "output_type": "display_data"
    }
   ],
   "source": [
    "train_total['has_gas'].replace({'f': 0, 't': 1}, inplace=True)\n",
    "\n",
    "gas = pd.crosstab(train_total['has_gas'], train_total['churn'])\n",
    "gas.plot(kind='bar')\n",
    "plt.show()"
   ]
  },
  {
   "cell_type": "code",
   "execution_count": 14,
   "metadata": {},
   "outputs": [
    {
     "data": {
      "image/png": "[encoded data removed]",
      "text/plain": [
       "<Figure size 432x288 with 1 Axes>"
      ]
     },
     "metadata": {
      "needs_background": "light"
     },
     "output_type": "display_data"
    }
   ],
   "source": [
    "channel = pd.crosstab(train_total['channel_sales'], train_total['churn'])\n",
    "channel.plot(kind='bar')\n",
    "plt.show()"
   ]
  },
  {
   "cell_type": "code",
   "execution_count": 15,
   "metadata": {},
   "outputs": [
    {
     "data": {
      "image/png": "[encoded data removed]",
      "text/plain": [
       "<Figure size 432x288 with 1 Axes>"
      ]
     },
     "metadata": {
      "needs_background": "light"
     },
     "output_type": "display_data"
    }
   ],
   "source": [
    "origin = pd.crosstab(train_total['origin_up'], train_total['churn'])\n",
    "origin.plot(kind='bar')\n",
    "plt.show()"
   ]
  },
  {
   "cell_type": "code",
   "execution_count": 16,
   "metadata": {},
   "outputs": [
    {
     "data": {
      "text/plain": [
       "0.000000     15476\n",
       "30.000000      280\n",
       "24.000000      112\n",
       "28.000000      102\n",
       "22.000000       57\n",
       "2.000000        17\n",
       "25.000000        7\n",
       "26.000000        5\n",
       "19.000000        4\n",
       "1.600000         4\n",
       "17.000000        3\n",
       "1.866667         3\n",
       "50.000000        2\n",
       "5.466667         2\n",
       "3.866667         2\n",
       "23.000000        2\n",
       "10.000000        2\n",
       "4.000000         2\n",
       "9.333333         1\n",
       "5.000000         1\n",
       "5.600000         1\n",
       "12.000000        1\n",
       "3.066667         1\n",
       "3.333333         1\n",
       "7.333333         1\n",
       "Name: forecast_discount_energy, dtype: int64"
      ]
     },
     "execution_count": 16,
     "metadata": {},
     "output_type": "execute_result"
    }
   ],
   "source": [
    "train_total.forecast_discount_energy.value_counts()"
   ]
  },
  {
   "cell_type": "code",
   "execution_count": 17,
   "metadata": {},
   "outputs": [
    {
     "data": {
      "text/plain": [
       "0     15476\n",
       "30      567\n",
       "10       38\n",
       "20        8\n",
       "Name: discount_level, dtype: int64"
      ]
     },
     "execution_count": 17,
     "metadata": {},
     "output_type": "execute_result"
    }
   ],
   "source": [
    "def discount_level(ds):\n",
    "    if ds == 0:\n",
    "        return 0\n",
    "    elif ds <= 10:\n",
    "        return 10\n",
    "    elif ds > 10 and ds <= 20:\n",
    "        return 20\n",
    "    else:\n",
    "        return 30\n",
    "    \n",
    "    \n",
    "train_total['discount_level'] = train_total['forecast_discount_energy'].apply(discount_level)\n",
    "\n",
    "train_total.discount_level.value_counts()"
   ]
  },
  {
   "cell_type": "code",
   "execution_count": 18,
   "metadata": {},
   "outputs": [
    {
     "data": {
      "image/png": "[encoded data removed]",
      "text/plain": [
       "<Figure size 432x288 with 1 Axes>"
      ]
     },
     "metadata": {
      "needs_background": "light"
     },
     "output_type": "display_data"
    }
   ],
   "source": [
    "discount = pd.crosstab(train_total['discount_level'], train_total['churn'])\n",
    "discount.plot(kind='bar')\n",
    "plt.show()"
   ]
  },
  {
   "cell_type": "code",
   "execution_count": null,
   "metadata": {},
   "outputs": [],
   "source": []
  }
 ],
 "metadata": {
  "kernelspec": {
   "display_name": "Python 3",
   "language": "python",
   "name": "python3"
  },
  "language_info": {
   "codemirror_mode": {
    "name": "ipython",
    "version": 3
   },
   "file_extension": ".py",
   "mimetype": "text/x-python",
   "name": "python",
   "nbconvert_exporter": "python",
   "pygments_lexer": "ipython3",
   "version": "3.7.3"
  }
 },
 "nbformat": 4,
 "nbformat_minor": 2
}
